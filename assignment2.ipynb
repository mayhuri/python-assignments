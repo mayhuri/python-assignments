{
 "cells": [
  {
   "cell_type": "code",
   "execution_count": null,
   "metadata": {
    "collapsed": true
   },
   "outputs": [],
   "source": [
    "Create a list with minimum 8 elements and print    \n",
    "a)  largest and second largest in the list.\n",
    "b)  swap first and last element\n"
   ]
  },
  {
   "cell_type": "code",
   "execution_count": 1,
   "metadata": {},
   "outputs": [
    {
     "name": "stdout",
     "output_type": "stream",
     "text": [
      "the first and last element before swpping are  8 3\n",
      "the first and last elements after swapping are 3 8\n",
      "the largest and second largest elements are:  98 8\n"
     ]
    }
   ],
   "source": [
    "list=[8,98,1,2,2]\n",
    "for i in range(1, 4): \n",
    "    list.append(i) \n",
    "n=len(list)\n",
    "print( \"the first and last element before swpping are \",list[0], list[n-1])\n",
    "temp=list[0]\n",
    "list[0]=list[n-1]\n",
    "list[n-1]=temp\n",
    "print(\"the first and last elements after swapping are\", list[0] ,list[n-1])\n",
    "list.sort()\n",
    "print(\"the largest and second largest elements are: \",list[n-1],list[n-2] )\n",
    "\n"
   ]
  },
  {
   "cell_type": "code",
   "execution_count": null,
   "metadata": {
    "collapsed": true
   },
   "outputs": [],
   "source": [
    "Create two lists and merge these list & sort the elements of resulting list."
   ]
  },
  {
   "cell_type": "code",
   "execution_count": 13,
   "metadata": {},
   "outputs": [
    {
     "name": "stdout",
     "output_type": "stream",
     "text": [
      "the list after merging and sorting is\n",
      "[0, 1, 2, 3, 3, 4, 5, 5, 8, 34, 63, 67, 84]\n"
     ]
    }
   ],
   "source": [
    "list1= [1,2,3,34,5,63,0]\n",
    "list2=[8,3,4,5,67,84]\n",
    "list=list1+list2\n",
    "list.sort()\n",
    "print(\"the list after merging and sorting is\")\n",
    "print(list)"
   ]
  },
  {
   "cell_type": "code",
   "execution_count": null,
   "metadata": {
    "collapsed": true
   },
   "outputs": [],
   "source": [
    "3)Find the union and intersection of two lists."
   ]
  },
  {
   "cell_type": "code",
   "execution_count": 1,
   "metadata": {},
   "outputs": [
    {
     "name": "stdout",
     "output_type": "stream",
     "text": [
      "{65, 3, 4, 5, 7, 9, 24, 89, 25, 32, 554}\n",
      "{7}\n"
     ]
    }
   ],
   "source": [
    "list1=[89,32,4,65,7,24]\n",
    "list2=[9,3,554,5,7,25]\n",
    "l=set(list1).union(list2)\n",
    "print(l)\n",
    "i=set(list1).intersection(list2)\n",
    "print(i)"
   ]
  },
  {
   "cell_type": "code",
   "execution_count": null,
   "metadata": {
    "collapsed": true
   },
   "outputs": [],
   "source": [
    "4) Create a list and print\n",
    "    \n",
    "a)3rd and 6th element    \n",
    "b)First 5 elements\n",
    "c)elements 7th to end \n",
    "d)change the 2ndand 5thelement by ‘x’ and ‘y’ respectively.\n",
    "e)Delete 5thelement and print the list\n",
    "f)Count the number of elements in the list"
   ]
  },
  {
   "cell_type": "code",
   "execution_count": 30,
   "metadata": {},
   "outputs": [
    {
     "name": "stdout",
     "output_type": "stream",
     "text": [
      "the 3rd and 6 th elements are  23 6\n",
      "the first 5 elements are  [1, 2, 23, 4, 45]\n",
      "the list of elements from 7th to end are [7, 5]\n",
      "the list after changing is: [1, 'x', 23, 4, 'y', 6, 67, 7, 5]\n",
      "the list after deleting the 5th element is: [1, 'x', 23, 4, 6, 67, 7, 5]\n",
      "the total number of elemnts in list is 8\n"
     ]
    }
   ],
   "source": [
    "list= [1,2,23,4,45,6,67,7,5]\n",
    "print(\"the 3rd and 6 th elements are \",list[2],list[5])\n",
    "print(\"the first 5 elements are \",list[:5])\n",
    "print(\"the list of elements from 7th to end are\",list[7:])\n",
    "list[1]=\"x\"\n",
    "list[4]=\"y\"\n",
    "print(\"the list after changing is:\",list)\n",
    "del list[4]\n",
    "print(\"the list after deleting the 5th element is:\",list)\n",
    "print(\"the total number of elemnts in list is\", len(list))"
   ]
  },
  {
   "cell_type": "code",
   "execution_count": null,
   "metadata": {
    "collapsed": true
   },
   "outputs": [],
   "source": [
    "5)Find the number of time a particular number occurs in a list and also print the largest even\n",
    "and odd number in the list\n"
   ]
  },
  {
   "cell_type": "code",
   "execution_count": 14,
   "metadata": {},
   "outputs": [
    {
     "name": "stdout",
     "output_type": "stream",
     "text": [
      "enter the number:7\n",
      "7 is repeated 3 times\n",
      "46 is the largest even number\n",
      "57 is the largest odd number\n"
     ]
    }
   ],
   "source": [
    "a=[1,24,57,7,36,7,46,9,7,9]\n",
    "n=int(input(\"enter the number:\"))\n",
    "l=len(a)\n",
    "count=0\n",
    "for i in a:\n",
    "    if i== n:\n",
    "        count=count+1\n",
    "print(n,\"is repeated\",count,\"times\")\n",
    "a.sort(reverse=True)\n",
    "for i in a:\n",
    "    if i%2==0:\n",
    "        print(i,\"is the largest even number\")\n",
    "        break\n",
    "for i in a:\n",
    "    if i%2!=0:\n",
    "        print(i,\"is the largest odd number\")\n",
    "        break\n"
   ]
  },
  {
   "cell_type": "code",
   "execution_count": null,
   "metadata": {
    "collapsed": true
   },
   "outputs": [],
   "source": [
    "6) Write a python program to create a list of tuples with the first element as the number and second element as \n",
    "the square of the number\n",
    "a)Sort the elements in ascending order"
   ]
  },
  {
   "cell_type": "code",
   "execution_count": 7,
   "metadata": {},
   "outputs": [
    {
     "name": "stdout",
     "output_type": "stream",
     "text": [
      "enter the lower limit: 2\n",
      "enter the upper limit: 5\n",
      "[(2, 4), (3, 9), (4, 16), (5, 25)]\n"
     ]
    }
   ],
   "source": [
    "a=int(input(\"enter the lower limit: \"))\n",
    "b =int(input(\"enter the upper limit: \"))\n",
    "c=[(x,x**2)for x in range(a,b+1)]\n",
    "print(c)"
   ]
  },
  {
   "cell_type": "code",
   "execution_count": null,
   "metadata": {
    "collapsed": true
   },
   "outputs": [],
   "source": [
    "7) Generate random numbers from 1-20 and append them to the list."
   ]
  },
  {
   "cell_type": "code",
   "execution_count": 6,
   "metadata": {},
   "outputs": [
    {
     "name": "stdout",
     "output_type": "stream",
     "text": [
      "[2, 5, 16, 2, 9, 15, 13, 11, 15, 7]\n"
     ]
    }
   ],
   "source": [
    "import random\n",
    "a=[]\n",
    "for i in range(10):\n",
    "    a.append(random.randint(1,20))\n",
    "print(a)"
   ]
  },
  {
   "cell_type": "code",
   "execution_count": null,
   "metadata": {
    "collapsed": true
   },
   "outputs": [],
   "source": [
    "8) Write a python program to compute a polynomial equation given that the coefficients of the polynomial are \n",
    "sorted in a list (input a list and sort it before computing)"
   ]
  },
  {
   "cell_type": "code",
   "execution_count": 5,
   "metadata": {},
   "outputs": [
    {
     "name": "stdout",
     "output_type": "stream",
     "text": [
      "Enter the coefficients for equation ax^3 + bx^2 + cx + d\n",
      "Enter coefficient:6\n",
      "Enter coefficient:4\n",
      "Enter coefficient:8\n",
      "Enter coefficient:7\n",
      "Enter the value of x:2\n",
      "The value of the polynomial is: 78\n"
     ]
    }
   ],
   "source": [
    "import math\n",
    "print(\"Enter the coefficients for equation ax^3 + bx^2 + cx + d\")\n",
    "l=[]\n",
    "for i in range(0,4):\n",
    "    a=int(input(\"Enter coefficient:\"))\n",
    "    l.append(a)\n",
    "l.sort()\n",
    "x=int(input(\"Enter the value of x:\"))\n",
    "sum=0\n",
    "j=3\n",
    "for i in range(0,3):\n",
    "    while(j>0):\n",
    "        sum=sum+(l[i]*(x**j))\n",
    "        break\n",
    "    j=j-1\n",
    "sum=sum+l[3]\n",
    "print(\"The value of the polynomial is:\",sum)"
   ]
  },
  {
   "cell_type": "code",
   "execution_count": null,
   "metadata": {
    "collapsed": true
   },
   "outputs": [],
   "source": [
    "Python Program to find all Numbers in a range which are Perfect Squares and\n",
    "Sum of all Digits in the Number is Less than 10"
   ]
  },
  {
   "cell_type": "code",
   "execution_count": 12,
   "metadata": {},
   "outputs": [
    {
     "name": "stdout",
     "output_type": "stream",
     "text": [
      "Enter lower range: 2\n",
      "Enter upper range: 7\n",
      "[4]\n"
     ]
    }
   ],
   "source": [
    "a=int(input(\"Enter lower range: \"))\n",
    "b=int(input(\"Enter upper range: \"))\n",
    "l=[]\n",
    "l=[x for x in range(a,b+1) if (int(x**0.5))**2==x and sum(list(map(int,str(x))))<10]\n",
    "print(l)\n",
    "\n"
   ]
  },
  {
   "cell_type": "code",
   "execution_count": null,
   "metadata": {
    "collapsed": true
   },
   "outputs": [],
   "source": [
    "Python Program to Find the Cumulative Sum of a List where the i’th Element is \n",
    "the Sum of the First i+1 Elements From The Original List"
   ]
  },
  {
   "cell_type": "code",
   "execution_count": 24,
   "metadata": {},
   "outputs": [
    {
     "name": "stdout",
     "output_type": "stream",
     "text": [
      "Enter the number of elements in list:3\n",
      "Enter element1:1\n",
      "Enter element2:2\n",
      "Enter element3:3\n",
      "The original list is:  [1, 2, 3]\n",
      "The new list is:  [1, 3, 6]\n"
     ]
    }
   ],
   "source": [
    "a=[]\n",
    "n= int(input(\"Enter the number of elements in list:\"))\n",
    "for x in range(0,n):\n",
    "    element=int(input(\"Enter element\" + str(x+1) + \":\"))\n",
    "    a.append(element)\n",
    "sum=0\n",
    "b=[]\n",
    "for i in range(0,n):\n",
    "    sum+=a[i]\n",
    "    b.append(sum)  \n",
    "print(\"The original list is: \",a)\n",
    "print(\"The new list is: \",b)"
   ]
  }
 ],
 "metadata": {
  "kernelspec": {
   "display_name": "Python 3",
   "language": "python",
   "name": "python3"
  },
  "language_info": {
   "codemirror_mode": {
    "name": "ipython",
    "version": 3
   },
   "file_extension": ".py",
   "mimetype": "text/x-python",
   "name": "python",
   "nbconvert_exporter": "python",
   "pygments_lexer": "ipython3",
   "version": "3.6.2"
  }
 },
 "nbformat": 4,
 "nbformat_minor": 2
}
