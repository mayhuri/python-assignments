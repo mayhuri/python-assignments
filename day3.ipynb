{
 "cells": [
  {
   "cell_type": "code",
   "execution_count": null,
   "metadata": {
    "collapsed": true
   },
   "outputs": [],
   "source": [
    "1.Write a Program to Count the Number of Vowels Present in a String using Sets"
   ]
  },
  {
   "cell_type": "code",
   "execution_count": 6,
   "metadata": {},
   "outputs": [
    {
     "name": "stdout",
     "output_type": "stream",
     "text": [
      "the number of vowels is: 5\n"
     ]
    }
   ],
   "source": [
    "string=input(\"enter the string1\")\n",
    "sets={'a','e','i','o','u'}\n",
    "count=0\n",
    "for i in string:\n",
    "      if i in sets:\n",
    "          count+=1\n",
    "print(\"the number of vowels is:\" ,count)"
   ]
  },
  {
   "cell_type": "code",
   "execution_count": null,
   "metadata": {
    "collapsed": true
   },
   "outputs": [],
   "source": [
    "Write a Python Program to Check Common Letters in Two Input Strings\n"
   ]
  },
  {
   "cell_type": "code",
   "execution_count": 9,
   "metadata": {},
   "outputs": [
    {
     "name": "stdout",
     "output_type": "stream",
     "text": [
      "the common letters in both the strings are ['u', 'y', 'h', 'i', ' ', 'a', 'm']\n"
     ]
    }
   ],
   "source": [
    "string1=input(\"enter the string1\")\n",
    "string2=input(\"enter the string2\")\n",
    "sets=set(string1)\n",
    "set1=set(string2)\n",
    "com=[]\n",
    "for i in sets:\n",
    "    if i in set1:\n",
    "        com.append(i)\n",
    "print(\"the common letters in both the strings are\",com)\n"
   ]
  },
  {
   "cell_type": "code",
   "execution_count": null,
   "metadata": {
    "collapsed": true
   },
   "outputs": [],
   "source": [
    "Displays which Letters are in the First String but not in the Second"
   ]
  },
  {
   "cell_type": "code",
   "execution_count": 11,
   "metadata": {},
   "outputs": [
    {
     "name": "stdout",
     "output_type": "stream",
     "text": [
      "enter the string1i am mayhuri\n",
      "enter the string2i ll comr home\n",
      "the letters only in string 1 are: {'y', 'a', 'u'}\n"
     ]
    }
   ],
   "source": [
    "str1=input(\"enter the string1\")\n",
    "str2=input(\"enter the string2\")\n",
    "set1=set(str1)\n",
    "set2=set(str2)\n",
    "print(\"the letters only in string 1 are:\",set1-set2)\n",
    "\n"
   ]
  },
  {
   "cell_type": "code",
   "execution_count": null,
   "metadata": {
    "collapsed": true
   },
   "outputs": [],
   "source": [
    "Write a Python Program to print which Letters are in the Two Strings but not in Both"
   ]
  },
  {
   "cell_type": "code",
   "execution_count": 16,
   "metadata": {},
   "outputs": [
    {
     "name": "stdout",
     "output_type": "stream",
     "text": [
      "enter the string1i am\n",
      "enter the string2ijk\n",
      "Letters are in the Two Strings but not in Both are {'j', 'k', ' ', 'a', 'm'}\n"
     ]
    }
   ],
   "source": [
    "str1=input(\"enter the string1\")\n",
    "str2=input(\"enter the string2\")\n",
    "set1=set(str1)\n",
    "set2=set(str2)\n",
    "inter=set1.intersection(set2)\n",
    "union= set1.union(set2)\n",
    "print(\"Letters are in the Two Strings but not in Both are\",union -inter)\n"
   ]
  },
  {
   "cell_type": "code",
   "execution_count": null,
   "metadata": {
    "collapsed": true
   },
   "outputs": [],
   "source": [
    "1.\tWrite a python program to handle the following exceptions\n",
    "a.\tIO error\n",
    "b.\tValue error\n",
    "c.\tImport error\n",
    "d.\tArithmetic error\n",
    "e.\tOverflow error\n",
    "f.\tZero division error\n",
    "g.\tFloating point error\n",
    "h.\tName error\n",
    "i.\tIndex error"
   ]
  },
  {
   "cell_type": "code",
   "execution_count": 1,
   "metadata": {},
   "outputs": [
    {
     "name": "stdout",
     "output_type": "stream",
     "text": [
      "the variable with that doesnt exist\n",
      "the divisor is zero in the division\n",
      "no element is present at that index in the array\n",
      "error during importing\n",
      "value error\n",
      "overflow error\n",
      "io error unable to open the file\n"
     ]
    }
   ],
   "source": [
    "try:\n",
    "    print(t)\n",
    "except NameError:\n",
    "    print(\"the variable with that doesnt exist\")\n",
    "try:\n",
    "    a=8\n",
    "    b=0\n",
    "    print(a/b)\n",
    "except ZeroDivisionError:\n",
    "    print(\"the divisor is zero in the division\")\n",
    "try:\n",
    "    a=[1,2,3,4]\n",
    "    print(\"the fifth value is\",a[5])\n",
    "except IndexError:\n",
    "          print(\"no element is present at that index in the array\")\n",
    "try:\n",
    "    import module\n",
    "    print(module.fib())\n",
    "except ImportError:\n",
    "    print(\"error during importing\")     \n",
    "try:\n",
    "    str=\"i am mayhuri\"\n",
    "    num=int(str)\n",
    "    print(num)\n",
    "except ValueError:\n",
    "    print(\"value error\")\n",
    "try:\n",
    "    import math \n",
    "    print (math.exp(1000)) \n",
    "except OverflowError:\n",
    "    print(\"overflow error\")\n",
    "try:\n",
    "    f=open(\"my.txt\",\"r\")\n",
    "except IOError:\n",
    "    print(\"io error unable to open the file\")"
   ]
  },
  {
   "cell_type": "code",
   "execution_count": null,
   "metadata": {
    "collapsed": true
   },
   "outputs": [],
   "source": []
  }
 ],
 "metadata": {
  "kernelspec": {
   "display_name": "Python 3",
   "language": "python",
   "name": "python3"
  },
  "language_info": {
   "codemirror_mode": {
    "name": "ipython",
    "version": 3
   },
   "file_extension": ".py",
   "mimetype": "text/x-python",
   "name": "python",
   "nbconvert_exporter": "python",
   "pygments_lexer": "ipython3",
   "version": "3.6.2"
  }
 },
 "nbformat": 4,
 "nbformat_minor": 2
}
