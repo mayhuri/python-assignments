{
 "cells": [
  {
   "cell_type": "code",
   "execution_count": null,
   "metadata": {
    "collapsed": true
   },
   "outputs": [],
   "source": [
    "python program for leap year"
   ]
  },
  {
   "cell_type": "code",
   "execution_count": 3,
   "metadata": {},
   "outputs": [
    {
     "name": "stdout",
     "output_type": "stream",
     "text": [
      "enter the year: 2001\n",
      " it is not lear year\n"
     ]
    }
   ],
   "source": [
    "year= int(input(\"enter the year: \"))\n",
    "if(year%4 ==0 and year%100!=0 or year%400==0):\n",
    "    print(\"it is a leap year\")\n",
    "else:\n",
    "    print(\" it is not lear year\")\n",
    "    "
   ]
  },
  {
   "cell_type": "code",
   "execution_count": null,
   "metadata": {
    "collapsed": true
   },
   "outputs": [],
   "source": [
    "program to check whether number is +ve ,-ve or zero"
   ]
  },
  {
   "cell_type": "code",
   "execution_count": 6,
   "metadata": {},
   "outputs": [
    {
     "name": "stdout",
     "output_type": "stream",
     "text": [
      "enter the number: -8\n",
      "number is negative\n"
     ]
    }
   ],
   "source": [
    "n = int(input(\"enter the number: \"))\n",
    "if n == 0:\n",
    "    print(\"number is zero\")\n",
    "elif n > 0:\n",
    "    print(\"number is positive\")\n",
    "else:\n",
    "    print(\"number is negative\")\n"
   ]
  },
  {
   "cell_type": "code",
   "execution_count": null,
   "metadata": {
    "collapsed": true
   },
   "outputs": [],
   "source": [
    "prime number checker"
   ]
  },
  {
   "cell_type": "code",
   "execution_count": 8,
   "metadata": {},
   "outputs": [
    {
     "name": "stdout",
     "output_type": "stream",
     "text": [
      "enter the number 8\n",
      "8 is not a prime number\n"
     ]
    }
   ],
   "source": [
    "num = int(input(\"enter the number \"))\n",
    "if num > 1: \n",
    "     for i in range(2, num//2): \n",
    "        if (num % i) == 0: \n",
    "            print(num, \"is not a prime number\") \n",
    "            break\n",
    "        else: \n",
    "            print(num, \"is a prime number\") \n",
    "            break\n",
    "else: \n",
    "    print(num, \"is not a prime number\") \n",
    "\n"
   ]
  },
  {
   "cell_type": "code",
   "execution_count": null,
   "metadata": {
    "collapsed": true
   },
   "outputs": [],
   "source": [
    "fibonacci series"
   ]
  },
  {
   "cell_type": "code",
   "execution_count": 11,
   "metadata": {},
   "outputs": [
    {
     "name": "stdout",
     "output_type": "stream",
     "text": [
      "enter the number of terms: 4\n",
      "0\n",
      "1\n",
      "1\n",
      "2\n"
     ]
    }
   ],
   "source": [
    "n= int(input(\"enter the number of terms: \"))\n",
    "n1=0\n",
    "n2=1\n",
    "\n",
    "if (n<=0):\n",
    "    print(\"enter valid number of terms\")\n",
    "elif (n==1):\n",
    "    print(n1)\n",
    "elif (n==2):\n",
    "    print(n2)\n",
    "else:\n",
    "    print(n1)\n",
    "    print(n2)\n",
    "    for i in range(2,n):\n",
    "        n3=n1+n2\n",
    "        n1=n2\n",
    "        n2=n3\n",
    "        print(n2)\n",
    "        \n",
    "        \n",
    "    "
   ]
  },
  {
   "cell_type": "code",
   "execution_count": null,
   "metadata": {
    "collapsed": true
   },
   "outputs": [],
   "source": [
    "area of traingle"
   ]
  },
  {
   "cell_type": "code",
   "execution_count": 2,
   "metadata": {},
   "outputs": [
    {
     "name": "stdout",
     "output_type": "stream",
     "text": [
      "enter the value for height7\n",
      "enter the value for base5\n",
      "area of triangle is 17.5\n"
     ]
    }
   ],
   "source": [
    "h = float(input(\"enter the value for height\"))\n",
    "b = float(input(\"enter the value for base\"))\n",
    "area = 1/2*h*b\n",
    "print(\"area of triangle is\",area)\n",
    "\n"
   ]
  },
  {
   "cell_type": "code",
   "execution_count": null,
   "metadata": {
    "collapsed": true
   },
   "outputs": [],
   "source": [
    "swapping"
   ]
  },
  {
   "cell_type": "code",
   "execution_count": 9,
   "metadata": {},
   "outputs": [
    {
     "name": "stdout",
     "output_type": "stream",
     "text": [
      "enter the value for a4\n",
      "enter the value for b8\n",
      " after swapping a= 8\n",
      " after swapping b= 4\n"
     ]
    }
   ],
   "source": [
    "a = int(input(\"enter the value for a: \"))\n",
    "b = int(input(\"enter the value for b: \"))\n",
    "temp = a\n",
    "a = b\n",
    "b = temp\n",
    "print(\" after swapping a =\", a)\n",
    "print(\" after swapping b =\", b)"
   ]
  },
  {
   "cell_type": "code",
   "execution_count": null,
   "metadata": {
    "collapsed": true
   },
   "outputs": [],
   "source": [
    "quadratic equation"
   ]
  },
  {
   "cell_type": "code",
   "execution_count": 2,
   "metadata": {},
   "outputs": [
    {
     "name": "stdout",
     "output_type": "stream",
     "text": [
      "Enter a: 8\n",
      "Enter b: 9\n",
      "Enter c: 5\n",
      "The solution are (-0.5625-0.5555121510822243j) and (-0.5625+0.5555121510822243j)\n"
     ]
    }
   ],
   "source": [
    "import cmath\n",
    "a = float(input('Enter a: '))\n",
    "b = float(input('Enter b: '))\n",
    "c = float(input('Enter c: '))\n",
    "\n",
    "\n",
    "d = (b**2)-(4*a*c)\n",
    "\n",
    "# find two solutions\n",
    "sol1 = (-b-cmath.sqrt(d))/(2*a)\n",
    "sol2 = (-b+cmath.sqrt(d))/(2*a)\n",
    "\n",
    "print('The solution are {0} and {1}'.format(sol1,sol2))"
   ]
  },
  {
   "cell_type": "code",
   "execution_count": null,
   "metadata": {
    "collapsed": true
   },
   "outputs": [],
   "source": [
    "odd or even prgram"
   ]
  },
  {
   "cell_type": "code",
   "execution_count": 6,
   "metadata": {},
   "outputs": [
    {
     "name": "stdout",
     "output_type": "stream",
     "text": [
      "enter the number 13\n",
      "13 is odd\n"
     ]
    }
   ],
   "source": [
    "num = int(input(\"enter the number \"))\n",
    "if(num%2)==0:\n",
    "    print(num, \" is even\")\n",
    "else:\n",
    "    print(num,\"is odd\")"
   ]
  },
  {
   "cell_type": "code",
   "execution_count": null,
   "metadata": {
    "collapsed": true
   },
   "outputs": [],
   "source": [
    "factorial program"
   ]
  },
  {
   "cell_type": "code",
   "execution_count": 10,
   "metadata": {},
   "outputs": [
    {
     "name": "stdout",
     "output_type": "stream",
     "text": [
      "enter the number: 5\n"
     ]
    },
    {
     "data": {
      "text/plain": [
       "120"
      ]
     },
     "execution_count": 10,
     "metadata": {},
     "output_type": "execute_result"
    }
   ],
   "source": [
    "def fact(n):\n",
    "    if(n==0):\n",
    "        return 1\n",
    "    else:\n",
    "        return (n*fact(n-1))\n",
    "n = int(input(\"enter the number: \"))\n",
    "fact(n)\n"
   ]
  },
  {
   "cell_type": "code",
   "execution_count": null,
   "metadata": {
    "collapsed": true
   },
   "outputs": [],
   "source": [
    "calculator"
   ]
  },
  {
   "cell_type": "code",
   "execution_count": 14,
   "metadata": {},
   "outputs": [
    {
     "name": "stdout",
     "output_type": "stream",
     "text": [
      "enter the value for x: 8\n",
      "enter the value for y: 9\n",
      "enter 0 for addition , 1 for subtraction, 2 for multiplication and 3 for division1\n",
      "-1\n"
     ]
    }
   ],
   "source": [
    "def add(x,y):\n",
    "    return x+y\n",
    "def sub(x,y):\n",
    "    return x-y\n",
    "def mul(x,y):\n",
    "    return x*y\n",
    "def div(x,y):\n",
    "    return x/y\n",
    "x = int(input(\"enter the value for x: \"))\n",
    "y = int(input(\"enter the value for y: \"))\n",
    "choice = int(input(\"enter 0 for addition , 1 for subtraction, 2 for multiplication and 3 for division\"))\n",
    "if(choice==0):\n",
    "    print(add(x,y))\n",
    "elif(choice==1):\n",
    "    print(sub(x,y))\n",
    "elif(choice==2):\n",
    "    print(mul(x,y))\n",
    "elif(choice==3):\n",
    "    if(y==0):\n",
    "        print(\"division by zero\")\n",
    "    else:\n",
    "        print(div(x,y))\n",
    "else:\n",
    "    print(\"not valid input\")\n",
    "\n"
   ]
  },
  {
   "cell_type": "code",
   "execution_count": null,
   "metadata": {
    "collapsed": true
   },
   "outputs": [],
   "source": [
    "multiplication table\n"
   ]
  },
  {
   "cell_type": "code",
   "execution_count": null,
   "metadata": {},
   "outputs": [],
   "source": [
    "num = int(input(\"enter the number for which multiplication table has to be displayed \"))\n",
    "\n",
    "for i in range(1,11):\n",
    "    print(num,\"x\",i,\"=\", num*i)\n"
   ]
  },
  {
   "cell_type": "code",
   "execution_count": null,
   "metadata": {
    "collapsed": true
   },
   "outputs": [],
   "source": [
    "#largest among 3 numbers\n"
   ]
  },
  {
   "cell_type": "code",
   "execution_count": null,
   "metadata": {},
   "outputs": [],
   "source": [
    "a = int(input(\"enter the value for a: \"))\n",
    "b = int(input(\"enter the value for b: \"))\n",
    "c = int(input(\"enter the value for c: \"))\n",
    "\n",
    "if(a>=b)and (a>=c):\n",
    "    largest=a\n",
    "elif(b>=a)and (b>=c):\n",
    "    largest=b\n",
    "elif(c>=b)and (c>=a):\n",
    "    largest=c\n",
    "    \n",
    "print(\" the largest among 3 numbers is\",largest)\n"
   ]
  },
  {
   "cell_type": "code",
   "execution_count": null,
   "metadata": {
    "collapsed": true
   },
   "outputs": [],
   "source": [
    "#celsius to fahrenheit\n"
   ]
  },
  {
   "cell_type": "code",
   "execution_count": 2,
   "metadata": {},
   "outputs": [
    {
     "name": "stdout",
     "output_type": "stream",
     "text": [
      "enter the value for celsius: 67\n",
      "67.0 deg celsius = 152.60000000000002 deg fahrenheit\n",
      "enter the value for celsius: 9\n",
      "9.0 deg fahrenheit =  -12.777777777777779 deg celsius =\n"
     ]
    }
   ],
   "source": [
    "celsius = float((input(\"enter the value for celsius: \")))\n",
    "fahrenheit = (celsius * 1.8) + 32\n",
    "print(celsius ,\"deg celsius =\", fahrenheit,\"deg fahrenheit\")\n",
    "f = float((input(\"enter the value for fahrenheit : \")))\n",
    "c=(f - 32)*5/9\n",
    "print(f,\"deg fahrenheit = \",c,\"deg celsius =\")\n"
   ]
  },
  {
   "cell_type": "code",
   "execution_count": null,
   "metadata": {
    "collapsed": true
   },
   "outputs": [],
   "source": [
    "#kilometer to miles"
   ]
  },
  {
   "cell_type": "code",
   "execution_count": 3,
   "metadata": {},
   "outputs": [
    {
     "name": "stdout",
     "output_type": "stream",
     "text": [
      "enter the value for km: 9\n",
      "9.000 kilometers is equal to 5.592 miles\n",
      "enter the value for km: 7\n",
      "7.000 miles is equal to 11.265 km\n"
     ]
    }
   ],
   "source": [
    "kilometers = float((input(\"enter the value for km: \")))\n",
    "# conversion factor \n",
    "conv = 0.621371 \n",
    "miles = kilometers * conv \n",
    "print('%0.3f kilometers is equal to %0.3f miles' %(kilometers,miles)) \n",
    "mil=float((input(\"enter the value for miles: \")))\n",
    "km = mil / conv\n",
    "print('%0.3f miles is equal to %0.3f km' %(mil,km)) \n",
    "\n",
    "\n",
    "  \n"
   ]
  },
  {
   "cell_type": "code",
   "execution_count": null,
   "metadata": {
    "collapsed": true
   },
   "outputs": [],
   "source": [
    "#decimal to binary ,octal and hexadecimal\n"
   ]
  },
  {
   "cell_type": "code",
   "execution_count": 6,
   "metadata": {},
   "outputs": [
    {
     "name": "stdout",
     "output_type": "stream",
     "text": [
      "enter the number 8\n",
      "8 in binary is 0b1000\n",
      "8 in octal is  0o10\n",
      "8 in hexadecimal is 0x8\n"
     ]
    }
   ],
   "source": [
    "num = int(input(\"enter the number \"))\n",
    "print(num ,\"in binary is\",bin(num))\n",
    "print(num, \"in octal is \", oct(num))\n",
    "print(num,\"in hexadecimal is\", hex(num))\n"
   ]
  },
  {
   "cell_type": "code",
   "execution_count": 4,
   "metadata": {},
   "outputs": [
    {
     "name": "stdout",
     "output_type": "stream",
     "text": [
      "enter the number 3\n",
      "Enter numbers:\n",
      "1\n",
      "5\n",
      "2\n",
      "Sum: 8\n"
     ]
    }
   ],
   "source": [
    "#sum of n numbers\n",
    "num = int(input(\"enter the number \"))\n",
    "sum=0\n",
    "print('Enter numbers:')\n",
    "for i in range(0,num):\n",
    "    sum+=int(input())\n",
    "print('Sum:',sum)"
   ]
  },
  {
   "cell_type": "code",
   "execution_count": null,
   "metadata": {
    "collapsed": true
   },
   "outputs": [],
   "source": []
  }
 ],
 "metadata": {
  "kernelspec": {
   "display_name": "Python 3",
   "language": "python",
   "name": "python3"
  },
  "language_info": {
   "codemirror_mode": {
    "name": "ipython",
    "version": 3
   },
   "file_extension": ".py",
   "mimetype": "text/x-python",
   "name": "python",
   "nbconvert_exporter": "python",
   "pygments_lexer": "ipython3",
   "version": "3.6.2"
  }
 },
 "nbformat": 4,
 "nbformat_minor": 2
}
