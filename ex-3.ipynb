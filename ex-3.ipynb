{
 "cells": [
  {
   "cell_type": "code",
   "execution_count": null,
   "metadata": {
    "collapsed": true
   },
   "outputs": [],
   "source": [
    "Write a python Program to create a dictionary with roll number and student name of 10 students"
   ]
  },
  {
   "cell_type": "code",
   "execution_count": 3,
   "metadata": {},
   "outputs": [
    {
     "name": "stdout",
     "output_type": "stream",
     "text": [
      "enter number of students3\n",
      "enter the roll number: 1\n",
      "enter the student name: kjg\n",
      "enter the roll number: 2\n",
      "enter the student name: gsag\n",
      "enter the roll number: 3\n",
      "enter the student name: dfhsd\n",
      "{1: 'kjg', 2: 'gsag', 3: 'dfhsd'}\n"
     ]
    }
   ],
   "source": [
    "dict={}\n",
    "n=int(input(\"enter number of students\"))\n",
    "for i in range(n):\n",
    "    a=int(input(\"enter the roll number: \"))\n",
    "    b=input(\"enter the student name: \")\n",
    "    dict[a]=b\n",
    "print(\"the dictionary is\",dict)"
   ]
  },
  {
   "cell_type": "code",
   "execution_count": null,
   "metadata": {
    "collapsed": true
   },
   "outputs": [],
   "source": [
    "Create two dictionaries and concatenate it & print the resulting dictionary."
   ]
  },
  {
   "cell_type": "code",
   "execution_count": 2,
   "metadata": {},
   "outputs": [
    {
     "name": "stdout",
     "output_type": "stream",
     "text": [
      "enter number of students2\n",
      "enter the roll number: 1\n",
      "enter the student name: gjk\n",
      "enter the roll number: 2\n",
      "enter the student name: uig\n",
      "enter the name: ma\n",
      "enter the age 2\n",
      "enter the name: jh\n",
      "enter the age 434\n",
      "{1: 'gjk', 2: 'uig', 'ma': 2, 'jh': 434}\n"
     ]
    }
   ],
   "source": [
    "dict={}\n",
    "n=int(input(\"enter number of students\"))\n",
    "for i in range(n):\n",
    "    a=int(input(\"enter the roll number: \"))\n",
    "    b=input(\"enter the student name: \")\n",
    "    dict[a]=b\n",
    "dict1={}\n",
    "for i in range(n):\n",
    "    name=input(\"enter the name: \")\n",
    "    age=int(input(\"enter the age \"))\n",
    "    dict1[name]=age\n",
    "dict.update(dict1)\n",
    "print(dict)"
   ]
  },
  {
   "cell_type": "code",
   "execution_count": null,
   "metadata": {
    "collapsed": true
   },
   "outputs": [],
   "source": [
    "3.Write a python program to check whether the Given Key Exists in a Dictionary or Not. \n",
    "If exists print the key value pair else print an error message."
   ]
  },
  {
   "cell_type": "code",
   "execution_count": 4,
   "metadata": {},
   "outputs": [
    {
     "name": "stdout",
     "output_type": "stream",
     "text": [
      "enter the key to be searched2\n",
      "2 hjk is the key value pair\n"
     ]
    }
   ],
   "source": [
    "dict={1:\"nmnj\",2:\"hjk\",3:\"hj\"}\n",
    "key= int(input(\"enter the key to be searched\"))\n",
    "if key in dict:\n",
    "    print(key,\":\",dict[key],\"is the key value pair\")\n",
    "else:\n",
    "    print(key ,\"is not present\")"
   ]
  },
  {
   "cell_type": "code",
   "execution_count": null,
   "metadata": {
    "collapsed": true
   },
   "outputs": [],
   "source": [
    "Python Program to Generate a Dictionary that Contains Numbers (between 1 and n) in the Form (x,x*x)"
   ]
  },
  {
   "cell_type": "code",
   "execution_count": 14,
   "metadata": {},
   "outputs": [
    {
     "name": "stdout",
     "output_type": "stream",
     "text": [
      "enter the lower limit1\n",
      "enter the upper limit3\n",
      "{1: 1, 2: 4, 3: 9}\n"
     ]
    }
   ],
   "source": [
    "dict={}\n",
    "a=int(input(\"enter the lower limit\"))\n",
    "b=int(input(\"enter the upper limit\"))\n",
    "for i in range(a,b+1):\n",
    "    dict[i]=i*i\n",
    "print(dict)"
   ]
  },
  {
   "cell_type": "code",
   "execution_count": null,
   "metadata": {
    "collapsed": true
   },
   "outputs": [],
   "source": [
    "Find the sum of all Items in a Dictionary"
   ]
  },
  {
   "cell_type": "code",
   "execution_count": 5,
   "metadata": {},
   "outputs": [
    {
     "name": "stdout",
     "output_type": "stream",
     "text": [
      "enter the key: 2\n",
      "enter the value4\n",
      "enter the key: 3\n",
      "enter the value6\n",
      "10\n"
     ]
    }
   ],
   "source": [
    "dict1={}\n",
    "for i in range(2):\n",
    "    key=input(\"enter the key: \")\n",
    "    value=int(input(\"enter the value\"))\n",
    "    dict1[key]=value\n",
    "sum=0\n",
    "v=dict1.values()\n",
    "for i in v:\n",
    "    sum+=i\n",
    "print(\"the sum is\",sum)\n",
    "\n"
   ]
  },
  {
   "cell_type": "code",
   "execution_count": null,
   "metadata": {
    "collapsed": true
   },
   "outputs": [],
   "source": [
    "Multiply all the Items in a Dictionary"
   ]
  },
  {
   "cell_type": "code",
   "execution_count": 1,
   "metadata": {},
   "outputs": [
    {
     "name": "stdout",
     "output_type": "stream",
     "text": [
      "enter the key: 2\n",
      "enter the value4\n",
      "enter the key: 3\n",
      "enter the value6\n",
      "24\n"
     ]
    }
   ],
   "source": [
    "dict1={}\n",
    "for i in range(2):\n",
    "    key=input(\"enter the key: \")\n",
    "    value=int(input(\"enter the value\"))\n",
    "    dict1[key]=value\n",
    "product=1\n",
    "v=dict1.values()\n",
    "for i in v:\n",
    "    product*=i\n",
    "print(\"the product is\",product)"
   ]
  },
  {
   "cell_type": "code",
   "execution_count": null,
   "metadata": {
    "collapsed": true
   },
   "outputs": [],
   "source": [
    "Write a python program to Map Two Lists into a Dictionary"
   ]
  },
  {
   "cell_type": "code",
   "execution_count": 3,
   "metadata": {},
   "outputs": [
    {
     "name": "stdout",
     "output_type": "stream",
     "text": [
      "{1: 6, 2: 7, 3: 8, 4: 9, 5: 10}\n"
     ]
    }
   ],
   "source": [
    "list1=[1,2,3,4,5]\n",
    "list2=[6,7,8,9,10]\n",
    "dict={}\n",
    "for i in range(len(list1)):\n",
    "    dict[list1[i]]=list2[i]\n",
    "print(dict)"
   ]
  },
  {
   "cell_type": "code",
   "execution_count": null,
   "metadata": {
    "collapsed": true
   },
   "outputs": [],
   "source": [
    "Write a Python Program to Count the Frequency of Words Appearing in a String Using a Dictionary"
   ]
  },
  {
   "cell_type": "code",
   "execution_count": 7,
   "metadata": {},
   "outputs": [
    {
     "name": "stdout",
     "output_type": "stream",
     "text": [
      "enter the stringthe the output\n",
      "{'the': 2, 'output': 1}\n"
     ]
    }
   ],
   "source": [
    "str=input(\"enter the string\")\n",
    "s=str.split(\" \")\n",
    "dict={}\n",
    "for i in s:\n",
    "    if i in dict:\n",
    "        dict[i]+=1\n",
    "    else:\n",
    "        dict[i]=1\n",
    "print(dict)"
   ]
  },
  {
   "cell_type": "code",
   "execution_count": null,
   "metadata": {
    "collapsed": true
   },
   "outputs": [],
   "source": [
    "Python Program to Create a Dictionary with Key as First Character and Value as Words Starting with that Character\n"
   ]
  },
  {
   "cell_type": "code",
   "execution_count": 10,
   "metadata": {},
   "outputs": [
    {
     "name": "stdout",
     "output_type": "stream",
     "text": [
      "enter the number of elements in dict2\n",
      "enter the stringmay\n",
      "enter the stringjune\n",
      "{'m': 'may', 'j': 'june'}\n"
     ]
    }
   ],
   "source": [
    "dic={}\n",
    "n=int(input(\"enter the number of elements in dict\"))\n",
    "for i in range(n):\n",
    "    s=input(\"enter the string\")\n",
    "    dic[s[0]]=s\n",
    "print(dic)\n"
   ]
  },
  {
   "cell_type": "raw",
   "metadata": {},
   "source": [
    "10.Create a dictionary with name and marks of 10 students and Print the dictionary. Sort students with their marks and print the result.\n",
    "\n"
   ]
  },
  {
   "cell_type": "code",
   "execution_count": 22,
   "metadata": {},
   "outputs": [
    {
     "name": "stdout",
     "output_type": "stream",
     "text": [
      "enter number of students2\n",
      "enter the name: may\n",
      "enter the marks: 678\n",
      "enter the name: gj\n",
      "enter the marks: 87\n",
      "gj : 87\n",
      "may : 678\n"
     ]
    }
   ],
   "source": [
    "dict={}\n",
    "n=int(input(\"enter number of students\"))\n",
    "for i in range(n):\n",
    "    a=input(\"enter the name: \")\n",
    "    b=int(input(\"enter the marks: \"))\n",
    "    dict[a]=b\n",
    "li=sorted(dict.values())\n",
    "for i in li:\n",
    "    for j in dict:\n",
    "        if dict[j]==i:\n",
    "            print(j,\":\",dict[j])"
   ]
  },
  {
   "cell_type": "code",
   "execution_count": null,
   "metadata": {
    "collapsed": true
   },
   "outputs": [],
   "source": []
  }
 ],
 "metadata": {
  "kernelspec": {
   "display_name": "Python 3",
   "language": "python",
   "name": "python3"
  },
  "language_info": {
   "codemirror_mode": {
    "name": "ipython",
    "version": 3
   },
   "file_extension": ".py",
   "mimetype": "text/x-python",
   "name": "python",
   "nbconvert_exporter": "python",
   "pygments_lexer": "ipython3",
   "version": "3.6.2"
  }
 },
 "nbformat": 4,
 "nbformat_minor": 2
}
