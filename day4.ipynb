{
 "cells": [
  {
   "cell_type": "code",
   "execution_count": null,
   "metadata": {
    "collapsed": true
   },
   "outputs": [],
   "source": [
    "Write a Python program to convert a list of numeric value into a one-dimensional NumPy array."
   ]
  },
  {
   "cell_type": "code",
   "execution_count": 79,
   "metadata": {},
   "outputs": [
    {
     "name": "stdout",
     "output_type": "stream",
     "text": [
      "the a one-dimensional NumPy array is [[ 1  2  2  4 56  7 74  9]]\n",
      "<class 'numpy.ndarray'>\n"
     ]
    }
   ],
   "source": [
    "import numpy as np\n",
    "list1=[1,2,2,4,56,7,74,9]\n",
    "a=np.array([list1])\n",
    "print(\"the a one-dimensional NumPy array is\",a )\n",
    "print(type(a))\n"
   ]
  },
  {
   "cell_type": "code",
   "execution_count": null,
   "metadata": {
    "collapsed": true
   },
   "outputs": [],
   "source": [
    "Create a 3x3 matrix with values ranging from 2 to 10."
   ]
  },
  {
   "cell_type": "code",
   "execution_count": 10,
   "metadata": {},
   "outputs": [
    {
     "name": "stdout",
     "output_type": "stream",
     "text": [
      "the 3x3 matrix with values ranging from 2 to 10 is:\n",
      " [[ 2  3  4]\n",
      " [ 5  6  7]\n",
      " [ 8  9 10]]\n"
     ]
    }
   ],
   "source": [
    "a=np.arange(2,11).reshape(3,3)\n",
    "print(\"the 3x3 matrix with values ranging from 2 to 10 is:\\n\",a)"
   ]
  },
  {
   "cell_type": "code",
   "execution_count": null,
   "metadata": {
    "collapsed": true
   },
   "outputs": [],
   "source": [
    "Write a Python program to create a null vector of size 10 and update sixth value to 11"
   ]
  },
  {
   "cell_type": "code",
   "execution_count": null,
   "metadata": {
    "collapsed": true
   },
   "outputs": [],
   "source": [
    "a = np.zeros(10)\n",
    "print(a)\n",
    "print(\"changing sixth value to 11\")\n",
    "x[6] = 11\n",
    "print(a)"
   ]
  },
  {
   "cell_type": "code",
   "execution_count": null,
   "metadata": {
    "collapsed": true
   },
   "outputs": [],
   "source": [
    "Write a Python program to create a array with values ranging from 12 to 38."
   ]
  },
  {
   "cell_type": "code",
   "execution_count": 16,
   "metadata": {},
   "outputs": [
    {
     "name": "stdout",
     "output_type": "stream",
     "text": [
      "[12 13 14 15 16 17 18 19 20 21 22 23 24 25 26 27 28 29 30 31 32 33 34 35 36\n",
      " 37 38]\n"
     ]
    }
   ],
   "source": [
    "a=np.arange(12,39)\n",
    "print(a)"
   ]
  },
  {
   "cell_type": "code",
   "execution_count": null,
   "metadata": {
    "collapsed": true
   },
   "outputs": [],
   "source": [
    "Write a Python program to reverse an array (first element becomes last)"
   ]
  },
  {
   "cell_type": "code",
   "execution_count": 46,
   "metadata": {},
   "outputs": [
    {
     "name": "stdout",
     "output_type": "stream",
     "text": [
      "[[0 1 2 3]\n",
      " [4 5 6 7]]\n",
      "the reverse array \n",
      " [[7 6 5 4]\n",
      " [3 2 1 0]]\n"
     ]
    }
   ],
   "source": [
    "a=np.arange(8).reshape(2,4)\n",
    "print(a)\n",
    "print(\"the reverse array \\n\",np.flipud(np.fliplr(a)))\n"
   ]
  },
  {
   "cell_type": "markdown",
   "metadata": {},
   "source": [
    " Write a Python program to an int array converted to a float type."
   ]
  },
  {
   "cell_type": "code",
   "execution_count": 32,
   "metadata": {},
   "outputs": [
    {
     "name": "stdout",
     "output_type": "stream",
     "text": [
      "int32\n",
      "float64\n"
     ]
    }
   ],
   "source": [
    "a=np.arange(8).reshape(2,4)\n",
    "print(\"the current array type is\",a.dtype)\n",
    "a=a.astype(float)\n",
    "print(\"the array type is\",a.dtype)"
   ]
  },
  {
   "cell_type": "code",
   "execution_count": null,
   "metadata": {
    "collapsed": true
   },
   "outputs": [],
   "source": [
    "Write a Python program to create a 2d array (5x5) with 1 on the border and 0 inside."
   ]
  },
  {
   "cell_type": "code",
   "execution_count": 110,
   "metadata": {},
   "outputs": [
    {
     "name": "stdout",
     "output_type": "stream",
     "text": [
      "2d array (5x5) with 1 on the border and 0 inside\n",
      " [[ 1.  1.  1.  1.  1.]\n",
      " [ 1.  0.  0.  0.  1.]\n",
      " [ 1.  0.  0.  0.  1.]\n",
      " [ 1.  0.  0.  0.  1.]\n",
      " [ 1.  1.  1.  1.  1.]]\n"
     ]
    }
   ],
   "source": [
    "a=np.ones(25).reshape(5,5)\n",
    "a[1:4,1:4]=a[1:4,1:4]*0\n",
    "print(\"2d array (5x5) with 1 on the border and 0 inside\\n\",a)"
   ]
  },
  {
   "cell_type": "code",
   "execution_count": null,
   "metadata": {
    "collapsed": true
   },
   "outputs": [],
   "source": [
    "Write a Python program to find the number of elements of an array\n",
    ", length of one array element in bytes and total bytes consumed by the elements."
   ]
  },
  {
   "cell_type": "code",
   "execution_count": 54,
   "metadata": {},
   "outputs": [
    {
     "name": "stdout",
     "output_type": "stream",
     "text": [
      "the number of elements in the array is 8\n",
      "length of one array element in bytes is 4\n",
      "total bytes consumed by the elements is 32\n"
     ]
    }
   ],
   "source": [
    "a=np.arange(8).reshape(2,4)\n",
    "print( \"the number of elements in the array is\",a.size)\n",
    "print(\"length of one array element in bytes is\", a.itemsize)\n",
    "print(\"total bytes consumed by the elements is\",a.size*a.itemsize)"
   ]
  },
  {
   "cell_type": "code",
   "execution_count": null,
   "metadata": {
    "collapsed": true
   },
   "outputs": [],
   "source": [
    "Write a Python program to create a function cube which cubes all the elements of an array."
   ]
  },
  {
   "cell_type": "code",
   "execution_count": 31,
   "metadata": {},
   "outputs": [
    {
     "name": "stdout",
     "output_type": "stream",
     "text": [
      "[ 1  8 27]\n"
     ]
    }
   ],
   "source": [
    "import numpy as np\n",
    "def cube(a):\n",
    "    it = np.nditer([a, None])\n",
    "    for i, j in it:\n",
    "        j[...] = i*i*i\n",
    "    return it.operands[1]\n",
    "print(cube([1,2,3]))"
   ]
  },
  {
   "cell_type": "code",
   "execution_count": null,
   "metadata": {
    "collapsed": true
   },
   "outputs": [],
   "source": [
    "Write a Python program to how to add an extra column to an numpy array."
   ]
  },
  {
   "cell_type": "code",
   "execution_count": 66,
   "metadata": {},
   "outputs": [
    {
     "name": "stdout",
     "output_type": "stream",
     "text": [
      " the array with extra column is\n",
      " [[0 1 2 3 1]\n",
      " [4 5 6 7 2]]\n"
     ]
    }
   ],
   "source": [
    "a=np.arange(8).reshape(2,4)\n",
    "\n",
    "b=np.insert(a,4,[1,2],axis=1)\n",
    "print(\" the array with extra column is\\n\",b)"
   ]
  },
  {
   "cell_type": "code",
   "execution_count": null,
   "metadata": {
    "collapsed": true
   },
   "outputs": [],
   "source": [
    "Write a Python program to remove the negative values in a numpy array with 0.\n"
   ]
  },
  {
   "cell_type": "code",
   "execution_count": 74,
   "metadata": {},
   "outputs": [
    {
     "name": "stdout",
     "output_type": "stream",
     "text": [
      "array:\n",
      " [[ 1  2]\n",
      " [-1  8]\n",
      " [ 9 -6]]\n",
      "the array without negative values\n",
      " [[1 2]\n",
      " [0 8]\n",
      " [9 0]]\n"
     ]
    }
   ],
   "source": [
    "a=np.array([[1,2],[-1,8],[9,-6]])\n",
    "bool_array = (a<0)\n",
    "print(\"array:\\n\",a)\n",
    "a[bool_array]=a[bool_array]*0\n",
    "print(\"the array without negative values\\n\",a)"
   ]
  },
  {
   "cell_type": "code",
   "execution_count": null,
   "metadata": {
    "collapsed": true
   },
   "outputs": [],
   "source": [
    "Create a  one dimensional array with 3 elements. Extend the array by repeating the current elements, 3 times."
   ]
  },
  {
   "cell_type": "code",
   "execution_count": 3,
   "metadata": {},
   "outputs": [
    {
     "name": "stdout",
     "output_type": "stream",
     "text": [
      "the array by repeating the current elements, 3 times [0 1 2 0 1 2 0 1 2]\n"
     ]
    }
   ],
   "source": [
    "import numpy as np\n",
    "a=np.arange(3)\n",
    "a=np.hstack([a,a,a])\n",
    "print(\"the array by repeating the current elements, 3 times\",a)"
   ]
  },
  {
   "cell_type": "code",
   "execution_count": null,
   "metadata": {
    "collapsed": true
   },
   "outputs": [],
   "source": [
    "Write a Python program compare two arrays using numpy"
   ]
  },
  {
   "cell_type": "code",
   "execution_count": 97,
   "metadata": {},
   "outputs": [
    {
     "name": "stdout",
     "output_type": "stream",
     "text": [
      "array1 equals array2: True\n"
     ]
    }
   ],
   "source": [
    "a=np.arange(3)\n",
    "b=np.zeros(3)\n",
    "c=np.arange(3)\n",
    "print(\" is array1 equals array2:\",np.array_equal(a,c))"
   ]
  },
  {
   "cell_type": "code",
   "execution_count": null,
   "metadata": {
    "collapsed": true
   },
   "outputs": [],
   "source": [
    "Write a Python program to find the memory size of a NumPy array"
   ]
  },
  {
   "cell_type": "code",
   "execution_count": 123,
   "metadata": {},
   "outputs": [
    {
     "name": "stdout",
     "output_type": "stream",
     "text": [
      "the memory size 32\n"
     ]
    }
   ],
   "source": [
    "a=np.arange(8).reshape(2,4)\n",
    "print(\"the memory size\",a.nbytes)"
   ]
  },
  {
   "cell_type": "code",
   "execution_count": null,
   "metadata": {
    "collapsed": true
   },
   "outputs": [],
   "source": [
    "Create a 3x5 array with random elements. Reshape this into 5x3"
   ]
  },
  {
   "cell_type": "code",
   "execution_count": 94,
   "metadata": {},
   "outputs": [
    {
     "name": "stdout",
     "output_type": "stream",
     "text": [
      "the 3x5 array:\n",
      " [[ 1  2  3  4  5]\n",
      " [ 6  7  8  9  0]\n",
      " [11 12 13 14 15]]\n",
      "the 5x3 array is\n",
      " [[ 1  2  3]\n",
      " [ 4  5  6]\n",
      " [ 7  8  9]\n",
      " [ 0 11 12]\n",
      " [13 14 15]]\n"
     ]
    }
   ],
   "source": [
    "a=np.array([[1,2,3,4,5],[6,7,8,9,0],[11,12,13,14,15]])\n",
    "print(\"the 3x5 array:\\n\",a)\n",
    "print(\"the 5x3 array is\\n\",a.reshape(5,3))"
   ]
  },
  {
   "cell_type": "code",
   "execution_count": null,
   "metadata": {
    "collapsed": true
   },
   "outputs": [],
   "source": [
    "Write a Python program to create a 2d array (5x5) with 1 on the border and 0 inside"
   ]
  },
  {
   "cell_type": "code",
   "execution_count": 4,
   "metadata": {},
   "outputs": [
    {
     "name": "stdout",
     "output_type": "stream",
     "text": [
      "2d array (5x5) with 1 on the border and 0 inside\n",
      " [[[ 1.  0.  0.  0.  0.  0.]\n",
      "  [ 0.  1.  0.  0.  0.  0.]\n",
      "  [ 0.  0.  1.  0.  0.  0.]\n",
      "  [ 0.  0.  0.  1.  0.  0.]\n",
      "  [ 0.  0.  0.  0.  1.  0.]\n",
      "  [ 0.  0.  0.  0.  0.  1.]]\n",
      "\n",
      " [[ 1.  0.  0.  0.  0.  0.]\n",
      "  [ 0.  1.  0.  0.  0.  0.]\n",
      "  [ 0.  0.  1.  0.  0.  0.]\n",
      "  [ 0.  0.  0.  1.  0.  0.]\n",
      "  [ 0.  0.  0.  0.  1.  0.]\n",
      "  [ 0.  0.  0.  0.  0.  1.]]\n",
      "\n",
      " [[ 1.  0.  0.  0.  0.  0.]\n",
      "  [ 0.  1.  0.  0.  0.  0.]\n",
      "  [ 0.  0.  1.  0.  0.  0.]\n",
      "  [ 0.  0.  0.  1.  0.  0.]\n",
      "  [ 0.  0.  0.  0.  1.  0.]\n",
      "  [ 0.  0.  0.  0.  0.  1.]]\n",
      "\n",
      " [[ 1.  0.  0.  0.  0.  0.]\n",
      "  [ 0.  1.  0.  0.  0.  0.]\n",
      "  [ 0.  0.  1.  0.  0.  0.]\n",
      "  [ 0.  0.  0.  1.  0.  0.]\n",
      "  [ 0.  0.  0.  0.  1.  0.]\n",
      "  [ 0.  0.  0.  0.  0.  1.]]\n",
      "\n",
      " [[ 1.  0.  0.  0.  0.  0.]\n",
      "  [ 0.  1.  0.  0.  0.  0.]\n",
      "  [ 0.  0.  1.  0.  0.  0.]\n",
      "  [ 0.  0.  0.  1.  0.  0.]\n",
      "  [ 0.  0.  0.  0.  1.  0.]\n",
      "  [ 0.  0.  0.  0.  0.  1.]]\n",
      "\n",
      " [[ 1.  0.  0.  0.  0.  0.]\n",
      "  [ 0.  1.  0.  0.  0.  0.]\n",
      "  [ 0.  0.  1.  0.  0.  0.]\n",
      "  [ 0.  0.  0.  1.  0.  0.]\n",
      "  [ 0.  0.  0.  0.  1.  0.]\n",
      "  [ 0.  0.  0.  0.  0.  1.]]]\n"
     ]
    }
   ],
   "source": [
    "import numpy as np\n",
    "a= np.eye(6)\n",
    "b=np.array([a]*6)\n",
    "print(\"2d array (5x5) with 1 on the border and 0 inside\\n\",b)"
   ]
  },
  {
   "cell_type": "code",
   "execution_count": null,
   "metadata": {
    "collapsed": true
   },
   "outputs": [],
   "source": [
    "17. The following table includes marks of students in various subjects.\n",
    "Each row corresponds to a student [ Rajesh, Rima, Ram and Joseph]  \n",
    "coulmn correspond to a subject [Maths, Physics, Chemistry, Sociology]\n",
    "\n",
    "15 . 20 .   25  12\n",
    "45 .  50 .  50 . 48\n",
    "8 .    7 .   3 .    2\n",
    "28 .  32 . 40 .  39\n",
    "\n",
    "Do the following \n",
    "A.\n",
    "1. FInd the mean, median, mode and standard deviation for marks of each subject\n",
    "2. What is the minimum and maximum of each subject?\n",
    "3. Print the subject in  each student good at and poor at ?\n",
    "4. What is the overall class mean, mode, median and standard deviation\n",
    "\n",
    "B.Teacher just announced the marks of English. They are 40, 49, 10 and 35 for eah student.\n",
    "Re-calculate all subparts of A.\n",
    "C. A new student joined the class. For the time being, the scores are going to be zero for each subject. \n",
    "Re-calculate A again with the new student.\n",
    "D. Print the current score card for the class"
   ]
  },
  {
   "cell_type": "code",
   "execution_count": 59,
   "metadata": {},
   "outputs": [
    {
     "name": "stdout",
     "output_type": "stream",
     "text": [
      "the means of the subjects are as follows:\n",
      "Maths : 24.0\n",
      "Physics : 27.25\n",
      "Chemistry : 29.5\n",
      "Sociology : 25.25\n",
      "the median of the subjects are as follows:\n",
      "Maths : 21.5\n",
      "Physics : 26.0\n",
      "Chemistry : 32.5\n",
      "Sociology : 25.5\n",
      "[[1 1 1 1]]\n",
      "the mode of the subjects are as follows:\n",
      "Maths : 1\n",
      "Physics : 1\n",
      "Chemistry : 1\n",
      "Sociology : 1\n",
      "the standard deviation of the subjects are as follows:\n",
      "Maths : 14.0890028036\n",
      "Physics : 15.8331140336\n",
      "Chemistry : 17.6988700204\n",
      "Sociology : 18.8596792125\n",
      "the maximum marks in the respective subjects are as follows \n",
      "Maths : 45\n",
      "Physics : 50\n",
      "Chemistry : 50\n",
      "Sociology : 48\n",
      "the maximum marks in the respective subjects are as follows \n",
      "Maths : 8\n",
      "Physics : 7\n",
      "Chemistry : 3\n",
      "Sociology : 2\n",
      "Rajesh is good at Chemistry and poor at Sociology\n",
      "Rima is good at Physics and poor at Maths\n",
      "Ram is good at Maths and poor at Sociology\n",
      "Joseph is good at Chemistry and poor at Maths\n",
      "the overall class mean : 26.5\n",
      "the overall class median : 26.5\n",
      "the overall class mode: [[1 1 1 1]]\n"
     ]
    }
   ],
   "source": [
    "import numpy as np\n",
    "a=np.array([[15,20,25,12],[45,50,50,48],[8,7,3,2],[28,32,40,39]])\n",
    "students=[\"Rajesh\",\"Rima\",\"Ram\",\"Joseph\"] \n",
    "subjects=[\"Maths\",\"Physics\",\"Chemistry\",\"Sociology\"]\n",
    "def A():\n",
    "    mean =a.mean(axis=0)\n",
    "    print(\"the means of the subjects are as follows:\")\n",
    "    for i,subject in enumerate(subjects):\n",
    "        print(subject,\":\",mean[i])\n",
    "    \n",
    "    median=np.median(a,axis=0)\n",
    "    print(\"the median of the subjects are as follows:\")\n",
    "    for i,subject in enumerate(subjects):\n",
    "        print(subject,\":\",median[i])\n",
    "    \n",
    "    from scipy import stats\n",
    "    mode=stats.mode(a,axis=0)\n",
    "    mode=mode[1]\n",
    "    print(mode)\n",
    "    print(\"the mode of the subjects are as follows:\")\n",
    "    for i,subject in enumerate(subjects):\n",
    "        print(subject,\":\",mode[0][i])\n",
    "    \n",
    "    sd=np.std(a,axis=0)\n",
    "    print(\"the standard deviation of the subjects are as follows:\")\n",
    "    for i,subject in enumerate(subjects):\n",
    "        print(subject,\":\",sd[i])\n",
    "\n",
    "    max=np.max(a,axis=0)\n",
    "    print(\"the maximum marks in the respective subjects are as follows \")\n",
    "    for i,subject in enumerate(subjects):\n",
    "        print(subject,\":\",max[i])\n",
    "\n",
    "    min=np.min(a,axis=0)\n",
    "    print(\"the maximum marks in the respective subjects are as follows \")\n",
    "    for i,subject in enumerate(subjects):\n",
    "        print(subject,\":\",min[i])\n",
    "        \n",
    "    min_s=np.min(a,axis=1)\n",
    "    max_s=np.max(a,axis=1)\n",
    "    for i,student in enumerate(students):\n",
    "        print(student,\"is good at\",subjects[a[i].argmax()],\"and poor at\",subjects[a[i].argmin()])\n",
    "\n",
    "    print(\"the overall class mean :\", np.mean(a))\n",
    "    print(\"the overall class median :\", np.median(a))\n",
    "    mode=stats.mode(a)\n",
    "    print(\"the overall class mode:\",mode[1])\n",
    "\n",
    "A()\n",
    "\n",
    "\n"
   ]
  },
  {
   "cell_type": "code",
   "execution_count": 45,
   "metadata": {},
   "outputs": [
    {
     "name": "stdout",
     "output_type": "stream",
     "text": [
      "the means of the subjects are as follows:\n",
      "Maths : 24.0\n",
      "Physics : 27.25\n",
      "Chemistry : 29.5\n",
      "Sociology : 25.25\n",
      "english : 33.5\n",
      "the median of the subjects are as follows:\n",
      "Maths : 21.5\n",
      "Physics : 26.0\n",
      "Chemistry : 32.5\n",
      "Sociology : 25.5\n",
      "english : 37.5\n",
      "[[1 1 1 1 1]]\n",
      "the mode of the subjects are as follows:\n",
      "Maths : 1\n",
      "Physics : 1\n",
      "Chemistry : 1\n",
      "Sociology : 1\n",
      "english : 1\n",
      "the standard deviation of the subjects are as follows:\n",
      "Maths : 14.0890028036\n",
      "Physics : 15.8331140336\n",
      "Chemistry : 17.6988700204\n",
      "Sociology : 18.8596792125\n",
      "english : 14.4654761415\n",
      "the maximum marks in the respective subjects are as follows \n",
      "Maths : 45\n",
      "Physics : 50\n",
      "Chemistry : 50\n",
      "Sociology : 48\n",
      "english : 49\n",
      "the maximum marks in the respective subjects are as follows \n",
      "Maths : 8\n",
      "Physics : 7\n",
      "Chemistry : 3\n",
      "Sociology : 2\n",
      "english : 10\n",
      "the overall class mean : 27.9\n",
      "the overall class median : 30.0\n",
      "the overall class mode: [[1 1 1 1 1]]\n"
     ]
    }
   ],
   "source": [
    "subjects.append(\"english\")\n",
    "marks=np.array([40, 49, 10,35]).reshape(4,1)\n",
    "a=np.append(a,marks,axis=1)\n",
    "A()"
   ]
  },
  {
   "cell_type": "code",
   "execution_count": 46,
   "metadata": {},
   "outputs": [
    {
     "name": "stdout",
     "output_type": "stream",
     "text": [
      "the means of the subjects are as follows:\n",
      "Maths : 19.2\n",
      "Physics : 21.8\n",
      "Chemistry : 23.6\n",
      "Sociology : 20.2\n",
      "english : 26.8\n",
      "the median of the subjects are as follows:\n",
      "Maths : 15.0\n",
      "Physics : 20.0\n",
      "Chemistry : 25.0\n",
      "Sociology : 12.0\n",
      "english : 35.0\n",
      "[[1 1 1 1 1]]\n",
      "the mode of the subjects are as follows:\n",
      "Maths : 1\n",
      "Physics : 1\n",
      "Chemistry : 1\n",
      "Sociology : 1\n",
      "english : 1\n",
      "the standard deviation of the subjects are as follows:\n",
      "Maths : 15.8417170787\n",
      "Physics : 17.870646323\n",
      "Chemistry : 19.7443662851\n",
      "Sociology : 19.6611291639\n",
      "english : 18.626862323\n",
      "the maximum marks in the respective subjects are as follows \n",
      "Maths : 45.0\n",
      "Physics : 50.0\n",
      "Chemistry : 50.0\n",
      "Sociology : 48.0\n",
      "english : 49.0\n",
      "the maximum marks in the respective subjects are as follows \n",
      "Maths : 0.0\n",
      "Physics : 0.0\n",
      "Chemistry : 0.0\n",
      "Sociology : 0.0\n",
      "english : 0.0\n",
      "the overall class mean : 22.32\n",
      "the overall class median : 20.0\n",
      "the overall class mode: [[1 1 1 1 1]]\n"
     ]
    }
   ],
   "source": [
    "students.append(\"b\")\n",
    "marks_s=np.zeros(5).reshape(1,5)\n",
    "a= np.append(a,marks_s,axis=0)\n",
    "A()"
   ]
  },
  {
   "cell_type": "code",
   "execution_count": 62,
   "metadata": {},
   "outputs": [
    {
     "name": "stdout",
     "output_type": "stream",
     "text": [
      "the markssheet of the class\n",
      "Rajesh \n",
      "Maths : 15\n",
      "Physics : 20\n",
      "Chemistry : 25\n",
      "Sociology : 12\n",
      "\n",
      "\n",
      "Rima \n",
      "Maths : 45\n",
      "Physics : 50\n",
      "Chemistry : 50\n",
      "Sociology : 48\n",
      "\n",
      "\n",
      "Ram \n",
      "Maths : 8\n",
      "Physics : 7\n",
      "Chemistry : 3\n",
      "Sociology : 2\n",
      "\n",
      "\n",
      "Joseph \n",
      "Maths : 28\n",
      "Physics : 32\n",
      "Chemistry : 40\n",
      "Sociology : 39\n",
      "\n",
      "\n"
     ]
    }
   ],
   "source": [
    "print(\"the markssheet of the class\")\n",
    "for i,student in enumerate(students):\n",
    "    print(student,\"\")\n",
    "    for j,subject in enumerate(subjects):\n",
    "        print(subject,\":\",a[i][j])\n",
    "    print(\"\\n\")\n",
    "\n",
    "    \n",
    "            "
   ]
  },
  {
   "cell_type": "code",
   "execution_count": null,
   "metadata": {
    "collapsed": true
   },
   "outputs": [],
   "source": []
  }
 ],
 "metadata": {
  "kernelspec": {
   "display_name": "Python 3",
   "language": "python",
   "name": "python3"
  },
  "language_info": {
   "codemirror_mode": {
    "name": "ipython",
    "version": 3
   },
   "file_extension": ".py",
   "mimetype": "text/x-python",
   "name": "python",
   "nbconvert_exporter": "python",
   "pygments_lexer": "ipython3",
   "version": "3.6.2"
  }
 },
 "nbformat": 4,
 "nbformat_minor": 2
}
