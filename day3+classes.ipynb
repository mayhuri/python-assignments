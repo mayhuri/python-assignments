{
 "cells": [
  {
   "cell_type": "code",
   "execution_count": null,
   "metadata": {
    "collapsed": true
   },
   "outputs": [],
   "source": [
    "Write a Python class to implement pow(x, n)"
   ]
  },
  {
   "cell_type": "code",
   "execution_count": 2,
   "metadata": {},
   "outputs": [
    {
     "name": "stdout",
     "output_type": "stream",
     "text": [
      "enter the value for x3\n",
      "enter the value foe y2\n",
      "9\n"
     ]
    }
   ],
   "source": [
    "class Power:\n",
    "    def __init__(self,x,n):\n",
    "        self.x=x\n",
    "        self.n=n\n",
    "    def pow(self):\n",
    "        return self.x**self.n\n",
    "x=int(input(\"enter the value for x\"))\n",
    "n=int(input('enter the value foe y'))\n",
    "p1=Power(x,n)\n",
    "print(p1.pow())"
   ]
  },
  {
   "cell_type": "code",
   "execution_count": null,
   "metadata": {
    "collapsed": true
   },
   "outputs": [],
   "source": [
    " Write a Python class to reverse a string word by word."
   ]
  },
  {
   "cell_type": "code",
   "execution_count": 17,
   "metadata": {},
   "outputs": [
    {
     "name": "stdout",
     "output_type": "stream",
     "text": [
      "enter the stringthe vak\n",
      "vak the \n"
     ]
    }
   ],
   "source": [
    "class Reverse:\n",
    "    def __init__(self,string):\n",
    "        self.string=string\n",
    "    def rev(self):\n",
    "        str=\"\"\n",
    "        a=self.string.split(\" \")\n",
    "        for i in a:\n",
    "            str=i +\" \"+ str\n",
    "        return str\n",
    "string=input(\"enter the string\")\n",
    "s=Reverse(string)\n",
    "print(s.rev())"
   ]
  },
  {
   "cell_type": "code",
   "execution_count": null,
   "metadata": {
    "collapsed": true
   },
   "outputs": [],
   "source": [
    "Inheritance \n",
    "1.Write a python program to implement different types of inheritance with the ‘Animal’ class."
   ]
  },
  {
   "cell_type": "code",
   "execution_count": 1,
   "metadata": {},
   "outputs": [
    {
     "name": "stdout",
     "output_type": "stream",
     "text": [
      "False\n",
      "True\n"
     ]
    }
   ],
   "source": [
    "#simple\n",
    "class Animal:\n",
    "    def __init__(self,animal):\n",
    "        self.animal=animal\n",
    "    def isPetAnimal(self):\n",
    "        isPetAnimal=False\n",
    "        return isPetAnimal\n",
    "class PetAnimal(Animal):\n",
    "    def isPetAnimal(self):\n",
    "        isPetAnimal=True\n",
    "        return isPetAnimal\n",
    "cat=Animal(\"cat\")\n",
    "dog=PetAnimal(\"dog\")\n",
    "print(cat.isPetAnimal())\n",
    "print(dog.isPetAnimal())\n",
    "    "
   ]
  },
  {
   "cell_type": "code",
   "execution_count": 3,
   "metadata": {},
   "outputs": [
    {
     "name": "stdout",
     "output_type": "stream",
     "text": [
      "False\n",
      "True\n"
     ]
    }
   ],
   "source": [
    "#multilevel \n",
    "class Animal:\n",
    "    def __init__(self,animal):\n",
    "        self.animal=animal\n",
    "    def isPetAnimal(self):\n",
    "        isPetAnimal=False\n",
    "        return isPetAnimal\n",
    "class PetAnimal(Animal):\n",
    "    def isPetAnimal(self):\n",
    "        isPetAnimal=True\n",
    "        return isPetAnimal\n",
    "    def isItDog(self):\n",
    "        dog=False\n",
    "        return dog\n",
    "class Dog(PetAnimal):\n",
    "        def isItDog(self):\n",
    "            dog= True\n",
    "            return dog\n",
    "cat=PetAnimal(\"cat\")\n",
    "dog=Dog(\"dog\")\n",
    "print(cat.isItDog())\n",
    "print(dog.isItDog())"
   ]
  },
  {
   "cell_type": "code",
   "execution_count": 4,
   "metadata": {},
   "outputs": [
    {
     "ename": "TypeError",
     "evalue": "Cannot create a consistent method resolution\norder (MRO) for bases Animal, PetAnimal",
     "output_type": "error",
     "traceback": [
      "\u001b[1;31m---------------------------------------------------------------------------\u001b[0m",
      "\u001b[1;31mTypeError\u001b[0m                                 Traceback (most recent call last)",
      "\u001b[1;32m<ipython-input-4-1bfa28a22476>\u001b[0m in \u001b[0;36m<module>\u001b[1;34m()\u001b[0m\n\u001b[0;32m     12\u001b[0m         \u001b[0misPetAnimal\u001b[0m\u001b[1;33m=\u001b[0m\u001b[1;32mTrue\u001b[0m\u001b[1;33m\u001b[0m\u001b[0m\n\u001b[0;32m     13\u001b[0m         \u001b[1;32mreturn\u001b[0m \u001b[0misPetAnimal\u001b[0m\u001b[1;33m\u001b[0m\u001b[0m\n\u001b[1;32m---> 14\u001b[1;33m \u001b[1;32mclass\u001b[0m \u001b[0mDog\u001b[0m\u001b[1;33m(\u001b[0m\u001b[0mAnimal\u001b[0m\u001b[1;33m,\u001b[0m\u001b[0mPetAnimal\u001b[0m\u001b[1;33m)\u001b[0m\u001b[1;33m:\u001b[0m\u001b[1;33m\u001b[0m\u001b[0m\n\u001b[0m\u001b[0;32m     15\u001b[0m     \u001b[1;32mdef\u001b[0m \u001b[0mnameandpetanimal\u001b[0m\u001b[1;33m(\u001b[0m\u001b[1;33m)\u001b[0m\u001b[1;33m:\u001b[0m\u001b[1;33m\u001b[0m\u001b[0m\n\u001b[0;32m     16\u001b[0m         \u001b[1;32mreturn\u001b[0m \u001b[0mname\u001b[0m\u001b[1;33m,\u001b[0m\u001b[0misPetAnimal\u001b[0m\u001b[1;33m\u001b[0m\u001b[0m\n",
      "\u001b[1;31mTypeError\u001b[0m: Cannot create a consistent method resolution\norder (MRO) for bases Animal, PetAnimal"
     ]
    }
   ],
   "source": [
    "class Animal:\n",
    "    def __init__(self,animal):\n",
    "        self.animal=animal\n",
    "    def isPetAnimal(self):\n",
    "        isPetAnimal=False\n",
    "        return isPetAnimal\n",
    "    def animalName(self):\n",
    "        name=self.animal\n",
    "        return(name)\n",
    "class PetAnimal(Animal):\n",
    "    def isPetAnimal(self):\n",
    "        isPetAnimal=True\n",
    "        return isPetAnimal\n",
    "class Dog(Animal,PetAnimal):\n",
    "    def nameandpetanimal():\n",
    "        return name,isPetAnimal\n",
    "cat=Animal(\"cat\")\n",
    "dog=PetAnimal(\"dog\")\n",
    "dog=dog.petAnimal(\"d\")\n",
    "print(cat.isPetAnimal())\n",
    "print(dog.isPetAnimal())"
   ]
  },
  {
   "cell_type": "code",
   "execution_count": null,
   "metadata": {
    "collapsed": true
   },
   "outputs": [],
   "source": []
  }
 ],
 "metadata": {
  "kernelspec": {
   "display_name": "Python 3",
   "language": "python",
   "name": "python3"
  },
  "language_info": {
   "codemirror_mode": {
    "name": "ipython",
    "version": 3
   },
   "file_extension": ".py",
   "mimetype": "text/x-python",
   "name": "python",
   "nbconvert_exporter": "python",
   "pygments_lexer": "ipython3",
   "version": "3.6.2"
  }
 },
 "nbformat": 4,
 "nbformat_minor": 2
}
